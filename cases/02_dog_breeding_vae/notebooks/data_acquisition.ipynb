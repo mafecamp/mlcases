{
 "cells": [
  {
   "cell_type": "markdown",
   "metadata": {},
   "source": [
    "# Stanford dogs\n",
    "\n",
    "Prepara os dados do stanford dogs para rodar no modelo de classificação de imagens.\n",
    "Esse é um dataset com 20k+ imagens de raças de cachorros, todas com o nome da classe.\n",
    "Nossos dados originais tinham apenas 10k imagens, assim teriamos mais formas de treinar.\n",
    "\n",
    "O dataset vem zipado, e pode ser pego no link: https://www.kaggle.com/datasets/jessicali9530/stanford-dogs-dataset"
   ]
  },
  {
   "cell_type": "code",
   "execution_count": null,
   "metadata": {},
   "outputs": [],
   "source": [
    "import pandas as pd\n",
    "import os"
   ]
  },
  {
   "cell_type": "code",
   "execution_count": 13,
   "metadata": {},
   "outputs": [],
   "source": [
    "dogs_folder = \"./stanford_dogs/archive(1)/images/Images\""
   ]
  },
  {
   "cell_type": "markdown",
   "metadata": {},
   "source": [
    "# Renomeia os arquivos\n",
    "\n",
    "Para chamar no nosso modelo, vamos renomear de '000000' em diante, para que fique mais fácil de chamar no nosso modelo.\n",
    "Além disso, salvamos a relação filename x raça x id para uso posterior"
   ]
  },
  {
   "cell_type": "code",
   "execution_count": 14,
   "metadata": {},
   "outputs": [],
   "source": [
    "## Lista todas as pastas\n",
    "folders = os.listdir(dogs_folder)\n",
    "\n",
    "## Lista todas as imagens\n",
    "images = []\n",
    "\n",
    "for folder in folders:\n",
    "    folder_path = os.path.join(dogs_folder, folder)\n",
    "    for image in os.listdir(folder_path):\n",
    "        images.append((folder, image))\n",
    "\n",
    "df_images = pd.DataFrame(images)\n",
    "\n",
    "dir_to_save = \"../keras_vae/inside/renamed\"\n",
    "\n",
    "if not os.path.exists(dir_to_save):\n",
    "    os.makedirs(dir_to_save)\n",
    "\n",
    "counter = 0\n",
    "renames = []\n",
    "\n",
    "for index, row in df_images.iterrows():\n",
    "    folder = row[0]\n",
    "    image = row[1]\n",
    "\n",
    "    new_prefix = str(counter).zfill(6)\n",
    "\n",
    "    counter += 1\n",
    "\n",
    "    old_path = os.path.join(dogs_folder, folder, image)\n",
    "    new_path = os.path.join(dir_to_save, f\"{new_prefix}.jpg\")\n",
    "    os.rename(old_path, new_path)\n",
    "\n",
    "    renames.append(new_path)\n",
    "\n",
    "df_images[\"new_Path\"] = renames"
   ]
  },
  {
   "cell_type": "code",
   "execution_count": 17,
   "metadata": {},
   "outputs": [],
   "source": [
    "df_images[\"filename\"] = df_images[\"new_Path\"].str.split(\"/\").str[-1]\n",
    "df_images.to_csv(\"renamed.csv\", index=False)"
   ]
  }
 ],
 "metadata": {
  "kernelspec": {
   "display_name": ".linux_venv",
   "language": "python",
   "name": "python3"
  },
  "language_info": {
   "codemirror_mode": {
    "name": "ipython",
    "version": 3
   },
   "file_extension": ".py",
   "mimetype": "text/x-python",
   "name": "python",
   "nbconvert_exporter": "python",
   "pygments_lexer": "ipython3",
   "version": "3.10.12"
  }
 },
 "nbformat": 4,
 "nbformat_minor": 2
}
