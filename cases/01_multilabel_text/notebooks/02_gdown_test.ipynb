{
 "cells": [
  {
   "cell_type": "code",
   "execution_count": null,
   "metadata": {},
   "outputs": [],
   "source": [
    "import gdown\n",
    "\n",
    "download_link = \"https://drive.google.com/file/d/1MfyowP9czztTx58dRn6xSFTNbwR2CmnL/view?usp=drive_link\"\n",
    "\n",
    "gdown.download(download_link, output=\"model.zip\", quiet=False)"
   ]
  }
 ],
 "metadata": {
  "language_info": {
   "name": "python"
  }
 },
 "nbformat": 4,
 "nbformat_minor": 2
}
